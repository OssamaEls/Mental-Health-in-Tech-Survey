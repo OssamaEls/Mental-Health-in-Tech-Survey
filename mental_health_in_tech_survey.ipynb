{
 "cells": [
  {
   "cell_type": "markdown",
   "metadata": {},
   "source": [
    "**Objective: based on the information available in the dataset, try to predict whether or not an individual would seek treatment for a mental health condition.**\n",
    "\n",
    "# 1. Loading the libraries"
   ]
  },
  {
   "cell_type": "code",
   "execution_count": 1,
   "metadata": {},
   "outputs": [],
   "source": [
    "import pandas as pd\n",
    "import numpy as np\n",
    "import matplotlib.pyplot as plt\n",
    "%matplotlib inline\n",
    "import seaborn as sns\n",
    "\n",
    "# preparation\n",
    "from sklearn.model_selection import train_test_split\n",
    "from sklearn.feature_selection import RFECV\n",
    "\n",
    "# models\n",
    "from sklearn.linear_model import LogisticRegression\n",
    "from sklearn.neighbors import KNeighborsClassifier\n",
    "from sklearn.ensemble import RandomForestClassifier\n",
    "from sklearn import metrics\n",
    "#from sklearn.feature_selection import SelectFromModel\n",
    "\n",
    "# validation\n",
    "from sklearn.model_selection import cross_val_score\n",
    "from sklearn.model_selection import GridSearchCV"
   ]
  },
  {
   "cell_type": "markdown",
   "metadata": {},
   "source": [
    "#  2. Data cleaning"
   ]
  },
  {
   "cell_type": "code",
   "execution_count": 2,
   "metadata": {},
   "outputs": [
    {
     "name": "stdout",
     "output_type": "stream",
     "text": [
      "<class 'pandas.core.frame.DataFrame'>\n",
      "RangeIndex: 1259 entries, 0 to 1258\n",
      "Data columns (total 27 columns):\n",
      "Timestamp                    1259 non-null object\n",
      "Age                          1259 non-null int64\n",
      "Gender                       1259 non-null object\n",
      "Country                      1259 non-null object\n",
      "state                        744 non-null object\n",
      "self_employed                1241 non-null object\n",
      "family_history               1259 non-null object\n",
      "treatment                    1259 non-null object\n",
      "work_interfere               995 non-null object\n",
      "no_employees                 1259 non-null object\n",
      "remote_work                  1259 non-null object\n",
      "tech_company                 1259 non-null object\n",
      "benefits                     1259 non-null object\n",
      "care_options                 1259 non-null object\n",
      "wellness_program             1259 non-null object\n",
      "seek_help                    1259 non-null object\n",
      "anonymity                    1259 non-null object\n",
      "leave                        1259 non-null object\n",
      "mental_health_consequence    1259 non-null object\n",
      "phys_health_consequence      1259 non-null object\n",
      "coworkers                    1259 non-null object\n",
      "supervisor                   1259 non-null object\n",
      "mental_health_interview      1259 non-null object\n",
      "phys_health_interview        1259 non-null object\n",
      "mental_vs_physical           1259 non-null object\n",
      "obs_consequence              1259 non-null object\n",
      "comments                     164 non-null object\n",
      "dtypes: int64(1), object(26)\n",
      "memory usage: 265.6+ KB\n"
     ]
    }
   ],
   "source": [
    "# reading the data file and extracting general info from it\n",
    "survey = pd.read_csv('survey.csv')\n",
    "survey.info()"
   ]
  },
  {
   "cell_type": "markdown",
   "metadata": {},
   "source": [
    "Only few columns (\"state\", \"work_interfere\", \"comments\") have null values.\n",
    "<br>\n",
    "However the \"work_interfere\" column will be our target column, and unfortunately 20% of its values are missing. We have to manage with these 80% values available.\n",
    "<br>\n",
    "Now let's look in detail at the content of all these columns if they need any cleaning."
   ]
  },
  {
   "cell_type": "code",
   "execution_count": 3,
   "metadata": {},
   "outputs": [
    {
     "data": {
      "text/html": [
       "<div>\n",
       "<style scoped>\n",
       "    .dataframe tbody tr th:only-of-type {\n",
       "        vertical-align: middle;\n",
       "    }\n",
       "\n",
       "    .dataframe tbody tr th {\n",
       "        vertical-align: top;\n",
       "    }\n",
       "\n",
       "    .dataframe thead th {\n",
       "        text-align: right;\n",
       "    }\n",
       "</style>\n",
       "<table border=\"1\" class=\"dataframe\">\n",
       "  <thead>\n",
       "    <tr style=\"text-align: right;\">\n",
       "      <th></th>\n",
       "      <th>Timestamp</th>\n",
       "      <th>Age</th>\n",
       "      <th>Gender</th>\n",
       "      <th>Country</th>\n",
       "      <th>state</th>\n",
       "      <th>self_employed</th>\n",
       "      <th>family_history</th>\n",
       "      <th>treatment</th>\n",
       "      <th>work_interfere</th>\n",
       "      <th>no_employees</th>\n",
       "      <th>...</th>\n",
       "      <th>leave</th>\n",
       "      <th>mental_health_consequence</th>\n",
       "      <th>phys_health_consequence</th>\n",
       "      <th>coworkers</th>\n",
       "      <th>supervisor</th>\n",
       "      <th>mental_health_interview</th>\n",
       "      <th>phys_health_interview</th>\n",
       "      <th>mental_vs_physical</th>\n",
       "      <th>obs_consequence</th>\n",
       "      <th>comments</th>\n",
       "    </tr>\n",
       "  </thead>\n",
       "  <tbody>\n",
       "    <tr>\n",
       "      <th>0</th>\n",
       "      <td>2014-08-27 11:29:31</td>\n",
       "      <td>37</td>\n",
       "      <td>Female</td>\n",
       "      <td>United States</td>\n",
       "      <td>IL</td>\n",
       "      <td>NaN</td>\n",
       "      <td>No</td>\n",
       "      <td>Yes</td>\n",
       "      <td>Often</td>\n",
       "      <td>6-25</td>\n",
       "      <td>...</td>\n",
       "      <td>Somewhat easy</td>\n",
       "      <td>No</td>\n",
       "      <td>No</td>\n",
       "      <td>Some of them</td>\n",
       "      <td>Yes</td>\n",
       "      <td>No</td>\n",
       "      <td>Maybe</td>\n",
       "      <td>Yes</td>\n",
       "      <td>No</td>\n",
       "      <td>NaN</td>\n",
       "    </tr>\n",
       "    <tr>\n",
       "      <th>1</th>\n",
       "      <td>2014-08-27 11:29:37</td>\n",
       "      <td>44</td>\n",
       "      <td>M</td>\n",
       "      <td>United States</td>\n",
       "      <td>IN</td>\n",
       "      <td>NaN</td>\n",
       "      <td>No</td>\n",
       "      <td>No</td>\n",
       "      <td>Rarely</td>\n",
       "      <td>More than 1000</td>\n",
       "      <td>...</td>\n",
       "      <td>Don't know</td>\n",
       "      <td>Maybe</td>\n",
       "      <td>No</td>\n",
       "      <td>No</td>\n",
       "      <td>No</td>\n",
       "      <td>No</td>\n",
       "      <td>No</td>\n",
       "      <td>Don't know</td>\n",
       "      <td>No</td>\n",
       "      <td>NaN</td>\n",
       "    </tr>\n",
       "    <tr>\n",
       "      <th>2</th>\n",
       "      <td>2014-08-27 11:29:44</td>\n",
       "      <td>32</td>\n",
       "      <td>Male</td>\n",
       "      <td>Canada</td>\n",
       "      <td>NaN</td>\n",
       "      <td>NaN</td>\n",
       "      <td>No</td>\n",
       "      <td>No</td>\n",
       "      <td>Rarely</td>\n",
       "      <td>6-25</td>\n",
       "      <td>...</td>\n",
       "      <td>Somewhat difficult</td>\n",
       "      <td>No</td>\n",
       "      <td>No</td>\n",
       "      <td>Yes</td>\n",
       "      <td>Yes</td>\n",
       "      <td>Yes</td>\n",
       "      <td>Yes</td>\n",
       "      <td>No</td>\n",
       "      <td>No</td>\n",
       "      <td>NaN</td>\n",
       "    </tr>\n",
       "    <tr>\n",
       "      <th>3</th>\n",
       "      <td>2014-08-27 11:29:46</td>\n",
       "      <td>31</td>\n",
       "      <td>Male</td>\n",
       "      <td>United Kingdom</td>\n",
       "      <td>NaN</td>\n",
       "      <td>NaN</td>\n",
       "      <td>Yes</td>\n",
       "      <td>Yes</td>\n",
       "      <td>Often</td>\n",
       "      <td>26-100</td>\n",
       "      <td>...</td>\n",
       "      <td>Somewhat difficult</td>\n",
       "      <td>Yes</td>\n",
       "      <td>Yes</td>\n",
       "      <td>Some of them</td>\n",
       "      <td>No</td>\n",
       "      <td>Maybe</td>\n",
       "      <td>Maybe</td>\n",
       "      <td>No</td>\n",
       "      <td>Yes</td>\n",
       "      <td>NaN</td>\n",
       "    </tr>\n",
       "    <tr>\n",
       "      <th>4</th>\n",
       "      <td>2014-08-27 11:30:22</td>\n",
       "      <td>31</td>\n",
       "      <td>Male</td>\n",
       "      <td>United States</td>\n",
       "      <td>TX</td>\n",
       "      <td>NaN</td>\n",
       "      <td>No</td>\n",
       "      <td>No</td>\n",
       "      <td>Never</td>\n",
       "      <td>100-500</td>\n",
       "      <td>...</td>\n",
       "      <td>Don't know</td>\n",
       "      <td>No</td>\n",
       "      <td>No</td>\n",
       "      <td>Some of them</td>\n",
       "      <td>Yes</td>\n",
       "      <td>Yes</td>\n",
       "      <td>Yes</td>\n",
       "      <td>Don't know</td>\n",
       "      <td>No</td>\n",
       "      <td>NaN</td>\n",
       "    </tr>\n",
       "  </tbody>\n",
       "</table>\n",
       "<p>5 rows × 27 columns</p>\n",
       "</div>"
      ],
      "text/plain": [
       "             Timestamp  Age  Gender         Country state self_employed  \\\n",
       "0  2014-08-27 11:29:31   37  Female   United States    IL           NaN   \n",
       "1  2014-08-27 11:29:37   44       M   United States    IN           NaN   \n",
       "2  2014-08-27 11:29:44   32    Male          Canada   NaN           NaN   \n",
       "3  2014-08-27 11:29:46   31    Male  United Kingdom   NaN           NaN   \n",
       "4  2014-08-27 11:30:22   31    Male   United States    TX           NaN   \n",
       "\n",
       "  family_history treatment work_interfere    no_employees   ...     \\\n",
       "0             No       Yes          Often            6-25   ...      \n",
       "1             No        No         Rarely  More than 1000   ...      \n",
       "2             No        No         Rarely            6-25   ...      \n",
       "3            Yes       Yes          Often          26-100   ...      \n",
       "4             No        No          Never         100-500   ...      \n",
       "\n",
       "                leave mental_health_consequence phys_health_consequence  \\\n",
       "0       Somewhat easy                        No                      No   \n",
       "1          Don't know                     Maybe                      No   \n",
       "2  Somewhat difficult                        No                      No   \n",
       "3  Somewhat difficult                       Yes                     Yes   \n",
       "4          Don't know                        No                      No   \n",
       "\n",
       "      coworkers supervisor mental_health_interview phys_health_interview  \\\n",
       "0  Some of them        Yes                      No                 Maybe   \n",
       "1            No         No                      No                    No   \n",
       "2           Yes        Yes                     Yes                   Yes   \n",
       "3  Some of them         No                   Maybe                 Maybe   \n",
       "4  Some of them        Yes                     Yes                   Yes   \n",
       "\n",
       "  mental_vs_physical obs_consequence comments  \n",
       "0                Yes              No      NaN  \n",
       "1         Don't know              No      NaN  \n",
       "2                 No              No      NaN  \n",
       "3                 No             Yes      NaN  \n",
       "4         Don't know              No      NaN  \n",
       "\n",
       "[5 rows x 27 columns]"
      ]
     },
     "execution_count": 3,
     "metadata": {},
     "output_type": "execute_result"
    }
   ],
   "source": [
    "survey.head()"
   ]
  },
  {
   "cell_type": "code",
   "execution_count": 4,
   "metadata": {},
   "outputs": [
    {
     "data": {
      "text/html": [
       "<div>\n",
       "<style scoped>\n",
       "    .dataframe tbody tr th:only-of-type {\n",
       "        vertical-align: middle;\n",
       "    }\n",
       "\n",
       "    .dataframe tbody tr th {\n",
       "        vertical-align: top;\n",
       "    }\n",
       "\n",
       "    .dataframe thead th {\n",
       "        text-align: right;\n",
       "    }\n",
       "</style>\n",
       "<table border=\"1\" class=\"dataframe\">\n",
       "  <thead>\n",
       "    <tr style=\"text-align: right;\">\n",
       "      <th></th>\n",
       "      <th>Number of missing values</th>\n",
       "      <th>Percentage of missing values</th>\n",
       "    </tr>\n",
       "  </thead>\n",
       "  <tbody>\n",
       "    <tr>\n",
       "      <th>comments</th>\n",
       "      <td>1095</td>\n",
       "      <td>86.97%</td>\n",
       "    </tr>\n",
       "    <tr>\n",
       "      <th>state</th>\n",
       "      <td>515</td>\n",
       "      <td>40.91%</td>\n",
       "    </tr>\n",
       "    <tr>\n",
       "      <th>work_interfere</th>\n",
       "      <td>264</td>\n",
       "      <td>20.97%</td>\n",
       "    </tr>\n",
       "    <tr>\n",
       "      <th>self_employed</th>\n",
       "      <td>18</td>\n",
       "      <td>1.43%</td>\n",
       "    </tr>\n",
       "    <tr>\n",
       "      <th>benefits</th>\n",
       "      <td>0</td>\n",
       "      <td>0.00%</td>\n",
       "    </tr>\n",
       "    <tr>\n",
       "      <th>Age</th>\n",
       "      <td>0</td>\n",
       "      <td>0.00%</td>\n",
       "    </tr>\n",
       "    <tr>\n",
       "      <th>Gender</th>\n",
       "      <td>0</td>\n",
       "      <td>0.00%</td>\n",
       "    </tr>\n",
       "    <tr>\n",
       "      <th>Country</th>\n",
       "      <td>0</td>\n",
       "      <td>0.00%</td>\n",
       "    </tr>\n",
       "    <tr>\n",
       "      <th>family_history</th>\n",
       "      <td>0</td>\n",
       "      <td>0.00%</td>\n",
       "    </tr>\n",
       "    <tr>\n",
       "      <th>treatment</th>\n",
       "      <td>0</td>\n",
       "      <td>0.00%</td>\n",
       "    </tr>\n",
       "    <tr>\n",
       "      <th>no_employees</th>\n",
       "      <td>0</td>\n",
       "      <td>0.00%</td>\n",
       "    </tr>\n",
       "    <tr>\n",
       "      <th>remote_work</th>\n",
       "      <td>0</td>\n",
       "      <td>0.00%</td>\n",
       "    </tr>\n",
       "    <tr>\n",
       "      <th>tech_company</th>\n",
       "      <td>0</td>\n",
       "      <td>0.00%</td>\n",
       "    </tr>\n",
       "    <tr>\n",
       "      <th>care_options</th>\n",
       "      <td>0</td>\n",
       "      <td>0.00%</td>\n",
       "    </tr>\n",
       "    <tr>\n",
       "      <th>obs_consequence</th>\n",
       "      <td>0</td>\n",
       "      <td>0.00%</td>\n",
       "    </tr>\n",
       "    <tr>\n",
       "      <th>wellness_program</th>\n",
       "      <td>0</td>\n",
       "      <td>0.00%</td>\n",
       "    </tr>\n",
       "    <tr>\n",
       "      <th>seek_help</th>\n",
       "      <td>0</td>\n",
       "      <td>0.00%</td>\n",
       "    </tr>\n",
       "    <tr>\n",
       "      <th>anonymity</th>\n",
       "      <td>0</td>\n",
       "      <td>0.00%</td>\n",
       "    </tr>\n",
       "    <tr>\n",
       "      <th>leave</th>\n",
       "      <td>0</td>\n",
       "      <td>0.00%</td>\n",
       "    </tr>\n",
       "    <tr>\n",
       "      <th>mental_health_consequence</th>\n",
       "      <td>0</td>\n",
       "      <td>0.00%</td>\n",
       "    </tr>\n",
       "    <tr>\n",
       "      <th>phys_health_consequence</th>\n",
       "      <td>0</td>\n",
       "      <td>0.00%</td>\n",
       "    </tr>\n",
       "    <tr>\n",
       "      <th>coworkers</th>\n",
       "      <td>0</td>\n",
       "      <td>0.00%</td>\n",
       "    </tr>\n",
       "    <tr>\n",
       "      <th>supervisor</th>\n",
       "      <td>0</td>\n",
       "      <td>0.00%</td>\n",
       "    </tr>\n",
       "    <tr>\n",
       "      <th>mental_health_interview</th>\n",
       "      <td>0</td>\n",
       "      <td>0.00%</td>\n",
       "    </tr>\n",
       "    <tr>\n",
       "      <th>phys_health_interview</th>\n",
       "      <td>0</td>\n",
       "      <td>0.00%</td>\n",
       "    </tr>\n",
       "    <tr>\n",
       "      <th>mental_vs_physical</th>\n",
       "      <td>0</td>\n",
       "      <td>0.00%</td>\n",
       "    </tr>\n",
       "    <tr>\n",
       "      <th>Timestamp</th>\n",
       "      <td>0</td>\n",
       "      <td>0.00%</td>\n",
       "    </tr>\n",
       "  </tbody>\n",
       "</table>\n",
       "</div>"
      ],
      "text/plain": [
       "                           Number of missing values  \\\n",
       "comments                                       1095   \n",
       "state                                           515   \n",
       "work_interfere                                  264   \n",
       "self_employed                                    18   \n",
       "benefits                                          0   \n",
       "Age                                               0   \n",
       "Gender                                            0   \n",
       "Country                                           0   \n",
       "family_history                                    0   \n",
       "treatment                                         0   \n",
       "no_employees                                      0   \n",
       "remote_work                                       0   \n",
       "tech_company                                      0   \n",
       "care_options                                      0   \n",
       "obs_consequence                                   0   \n",
       "wellness_program                                  0   \n",
       "seek_help                                         0   \n",
       "anonymity                                         0   \n",
       "leave                                             0   \n",
       "mental_health_consequence                         0   \n",
       "phys_health_consequence                           0   \n",
       "coworkers                                         0   \n",
       "supervisor                                        0   \n",
       "mental_health_interview                           0   \n",
       "phys_health_interview                             0   \n",
       "mental_vs_physical                                0   \n",
       "Timestamp                                         0   \n",
       "\n",
       "                          Percentage of missing values  \n",
       "comments                                        86.97%  \n",
       "state                                           40.91%  \n",
       "work_interfere                                  20.97%  \n",
       "self_employed                                    1.43%  \n",
       "benefits                                         0.00%  \n",
       "Age                                              0.00%  \n",
       "Gender                                           0.00%  \n",
       "Country                                          0.00%  \n",
       "family_history                                   0.00%  \n",
       "treatment                                        0.00%  \n",
       "no_employees                                     0.00%  \n",
       "remote_work                                      0.00%  \n",
       "tech_company                                     0.00%  \n",
       "care_options                                     0.00%  \n",
       "obs_consequence                                  0.00%  \n",
       "wellness_program                                 0.00%  \n",
       "seek_help                                        0.00%  \n",
       "anonymity                                        0.00%  \n",
       "leave                                            0.00%  \n",
       "mental_health_consequence                        0.00%  \n",
       "phys_health_consequence                          0.00%  \n",
       "coworkers                                        0.00%  \n",
       "supervisor                                       0.00%  \n",
       "mental_health_interview                          0.00%  \n",
       "phys_health_interview                            0.00%  \n",
       "mental_vs_physical                               0.00%  \n",
       "Timestamp                                        0.00%  "
      ]
     },
     "execution_count": 4,
     "metadata": {},
     "output_type": "execute_result"
    }
   ],
   "source": [
    "# missing data\n",
    "missing_values_per_column = survey.isnull().sum().sort_values(ascending=False)\n",
    "percentage_missing_values = 100*(survey.isnull().sum()/survey.isnull().count()).sort_values(ascending=False)\n",
    "missing_data = pd.concat([missing_values_per_column, percentage_missing_values], \\\n",
    "                         axis=1, keys=['Number of missing values', 'Percentage of missing values'])\n",
    "pmv = 'Percentage of missing values'\n",
    "missing_data[pmv] = pd.Series([\"{0:.2f}%\".format(val) for val in missing_data[pmv]],index = missing_data.index)\n",
    "missing_data"
   ]
  },
  {
   "cell_type": "code",
   "execution_count": 5,
   "metadata": {},
   "outputs": [],
   "source": [
    "# removing columns not useful for our analysis\n",
    "survey.drop(['comments','state','Timestamp'], axis= 1,inplace = True)"
   ]
  },
  {
   "cell_type": "code",
   "execution_count": 6,
   "metadata": {},
   "outputs": [
    {
     "data": {
      "text/plain": [
       "No     1113\n",
       "Yes     146\n",
       "Name: self_employed, dtype: int64"
      ]
     },
     "execution_count": 6,
     "metadata": {},
     "output_type": "execute_result"
    }
   ],
   "source": [
    "# the NaN values of the \"self_employed\" column will be filled with the largely dominant value: \"No\"\n",
    "survey['self_employed'].fillna('No',inplace = True)\n",
    "survey['self_employed'].value_counts()"
   ]
  },
  {
   "cell_type": "code",
   "execution_count": 7,
   "metadata": {},
   "outputs": [
    {
     "data": {
      "text/plain": [
       "Male                                              615\n",
       "male                                              206\n",
       "Female                                            121\n",
       "M                                                 116\n",
       "female                                             62\n",
       "F                                                  38\n",
       "m                                                  34\n",
       "f                                                  15\n",
       "Make                                                4\n",
       "Woman                                               3\n",
       "Male                                                3\n",
       "Man                                                 2\n",
       "Female (trans)                                      2\n",
       "Female                                              2\n",
       "Cis Male                                            2\n",
       "Male (CIS)                                          1\n",
       "p                                                   1\n",
       "femail                                              1\n",
       "male leaning androgynous                            1\n",
       "Mal                                                 1\n",
       "Trans-female                                        1\n",
       "woman                                               1\n",
       "A little about you                                  1\n",
       "queer/she/they                                      1\n",
       "maile                                               1\n",
       "Male-ish                                            1\n",
       "cis male                                            1\n",
       "Malr                                                1\n",
       "Neuter                                              1\n",
       "Guy (-ish) ^_^                                      1\n",
       "Cis Man                                             1\n",
       "Androgyne                                           1\n",
       "Trans woman                                         1\n",
       "ostensibly male, unsure what that really means      1\n",
       "Cis Female                                          1\n",
       "Enby                                                1\n",
       "Femake                                              1\n",
       "Agender                                             1\n",
       "Nah                                                 1\n",
       "non-binary                                          1\n",
       "All                                                 1\n",
       "Genderqueer                                         1\n",
       "msle                                                1\n",
       "something kinda male?                               1\n",
       "Mail                                                1\n",
       "cis-female/femme                                    1\n",
       "Female (cis)                                        1\n",
       "fluid                                               1\n",
       "queer                                               1\n",
       "Name: Gender, dtype: int64"
      ]
     },
     "execution_count": 7,
     "metadata": {},
     "output_type": "execute_result"
    }
   ],
   "source": [
    "survey['Gender'].value_counts()"
   ]
  },
  {
   "cell_type": "markdown",
   "metadata": {},
   "source": [
    "Clearly the \"Gender\" column needs cleaning. <br>\n",
    "All these values will be replaced by either \"Male\" or \"Female\". <br>\n",
    "If the answer is not clear the value will be replaced by \"NaN\"."
   ]
  },
  {
   "cell_type": "code",
   "execution_count": 8,
   "metadata": {},
   "outputs": [],
   "source": [
    "male_str = [\"male\", \"m\", \"male-ish\", \"maile\", \"mal\", \"male (cis)\", \"make\",\\\n",
    "            \"male \", \"man\",\"msle\", \"mail\", \"malr\",\"cis man\", \"Cis Male\", \"cis male\"]\n",
    "trans_str = [\"trans-female\", \"something kinda male?\", \"queer/she/they\", \\\n",
    "             \"non-binary\",\"nah\", \"all\", \"enby\", \"fluid\", \"genderqueer\", \"androgyne\", \"agender\", \\\n",
    "             \"male leaning androgynous\", \"guy (-ish) ^_^\", \"trans woman\", \"neuter\",\\\n",
    "             \"female (trans)\", \"queer\", \"ostensibly male, unsure what that really means\"]           \n",
    "female_str = [\"cis female\", \"f\", \"female\", \"woman\",  \"femake\", \"female \",\\\n",
    "              \"cis-female/femme\", \"female (cis)\", \"femail\"]\n",
    "for idx, val in survey['Gender'].iteritems():\n",
    "    if str.lower(val) in male_str:\n",
    "        survey['Gender'].replace(val, 'Male', inplace = True)\n",
    "    elif str.lower(val) in female_str:\n",
    "        survey['Gender'].replace(val, 'Female', inplace = True)\n",
    "    else:\n",
    "        survey['Gender'].replace(val, 'NaN', inplace = True)"
   ]
  },
  {
   "cell_type": "code",
   "execution_count": 9,
   "metadata": {},
   "outputs": [
    {
     "data": {
      "text/plain": [
       "Male      991\n",
       "Female    247\n",
       "NaN        21\n",
       "Name: Gender, dtype: int64"
      ]
     },
     "execution_count": 9,
     "metadata": {},
     "output_type": "execute_result"
    }
   ],
   "source": [
    "survey['Gender'].value_counts()"
   ]
  },
  {
   "cell_type": "code",
   "execution_count": 10,
   "metadata": {},
   "outputs": [],
   "source": [
    "survey['work_interfere'].fillna('Don\\'t know', inplace = True)"
   ]
  },
  {
   "cell_type": "code",
   "execution_count": 11,
   "metadata": {},
   "outputs": [
    {
     "data": {
      "text/plain": [
       "Sometimes     465\n",
       "Don't know    264\n",
       "Never         213\n",
       "Rarely        173\n",
       "Often         144\n",
       "Name: work_interfere, dtype: int64"
      ]
     },
     "execution_count": 11,
     "metadata": {},
     "output_type": "execute_result"
    }
   ],
   "source": [
    "survey['work_interfere'].value_counts()"
   ]
  },
  {
   "cell_type": "code",
   "execution_count": 12,
   "metadata": {},
   "outputs": [
    {
     "data": {
      "image/png": "[encoded data removed]",
      "text/plain": [
       "<Figure size 432x288 with 1 Axes>"
      ]
     },
     "metadata": {},
     "output_type": "display_data"
    }
   ],
   "source": [
    "# changing \"Yes\" and \"No\" values by 1 and 0 (to make plots possible)\n",
    "survey.replace(('Yes', 'No'), (1, 0), inplace=True)\n",
    "gender_pivot = survey.pivot_table(index=\"Gender\",values=\"treatment\")\n",
    "gender_pivot.plot.bar()\n",
    "plt.ylabel(\"Proportion of people who sought treatment\")\n",
    "plt.legend().set_visible(False)\n",
    "plt.show()"
   ]
  },
  {
   "cell_type": "markdown",
   "metadata": {},
   "source": [
    "The results for which the gender is unknown (with \"NaN\" value) are not relevant. <br>\n",
    "Let's remove all rows where this value appears."
   ]
  },
  {
   "cell_type": "code",
   "execution_count": 13,
   "metadata": {},
   "outputs": [],
   "source": [
    "# replacing \"NaN\" string by np.nan for validity checking\n",
    "survey['Gender'].replace([\"NaN\"], np.nan, inplace = True)\n",
    "survey[\"Gender\"].dropna(inplace=True)"
   ]
  },
  {
   "cell_type": "code",
   "execution_count": 14,
   "metadata": {},
   "outputs": [
    {
     "data": {
      "image/png": "[encoded data removed]",
      "text/plain": [
       "<Figure size 432x288 with 1 Axes>"
      ]
     },
     "metadata": {},
     "output_type": "display_data"
    }
   ],
   "source": [
    "gender_pivot = survey.pivot_table(index=\"Gender\",values=\"treatment\")\n",
    "gender_pivot.plot.bar()\n",
    "plt.ylabel(\"Proportion of people who sought treatment\")\n",
    "plt.legend().set_visible(False)\n",
    "plt.show()"
   ]
  },
  {
   "cell_type": "markdown",
   "metadata": {},
   "source": [
    "It seems that more women than men are seeking treatment."
   ]
  },
  {
   "cell_type": "code",
   "execution_count": 15,
   "metadata": {},
   "outputs": [
    {
     "data": {
      "text/plain": [
       "count    1.259000e+03\n",
       "mean     7.942815e+07\n",
       "std      2.818299e+09\n",
       "min     -1.726000e+03\n",
       "25%      2.700000e+01\n",
       "50%      3.100000e+01\n",
       "75%      3.600000e+01\n",
       "max      1.000000e+11\n",
       "Name: Age, dtype: float64"
      ]
     },
     "execution_count": 15,
     "metadata": {},
     "output_type": "execute_result"
    }
   ],
   "source": [
    "survey[\"Age\"].describe()"
   ]
  },
  {
   "cell_type": "markdown",
   "metadata": {},
   "source": [
    "Some values in the \"Age\" column are not realistic or completely no sense (like negative values or positive values above 150). <br>\n",
    "Values not between 18 and 73 will be filled by the median value of the column. <br> <br>\n",
    "Also, as this column is a continuous feature, we'll separate it into a categorical feature by dividing it into ranges (this is called binning)."
   ]
  },
  {
   "cell_type": "code",
   "execution_count": 16,
   "metadata": {
    "scrolled": true
   },
   "outputs": [
    {
     "name": "stderr",
     "output_type": "stream",
     "text": [
      "C:\\Users\\Ossama\\Anaconda3-4.2.0\\envs\\py36\\lib\\site-packages\\ipykernel_launcher.py:1: SettingWithCopyWarning: \n",
      "A value is trying to be set on a copy of a slice from a DataFrame\n",
      "\n",
      "See the caveats in the documentation: http://pandas.pydata.org/pandas-docs/stable/indexing.html#indexing-view-versus-copy\n",
      "  \"\"\"Entry point for launching an IPython kernel.\n"
     ]
    }
   ],
   "source": [
    "survey['Age'][survey['Age']<18] = survey['Age'].median()\n",
    "survey['Age'][survey['Age']>73] = survey['Age'].median()"
   ]
  },
  {
   "cell_type": "markdown",
   "metadata": {},
   "source": [
    "# 3. Binning and encoding data"
   ]
  },
  {
   "cell_type": "code",
   "execution_count": 17,
   "metadata": {},
   "outputs": [],
   "source": [
    "cut_points = [17,30,50,75]\n",
    "label_names = [\"Young Adult\",\"Adult\",\"Senior\"]\n",
    "survey[\"Age_categories\"] = pd.cut(survey[\"Age\"],cut_points,labels=label_names)"
   ]
  },
  {
   "cell_type": "code",
   "execution_count": 18,
   "metadata": {},
   "outputs": [
    {
     "data": {
      "image/png": "[encoded data removed]",
      "text/plain": [
       "<Figure size 432x288 with 1 Axes>"
      ]
     },
     "metadata": {},
     "output_type": "display_data"
    }
   ],
   "source": [
    "pivot = survey.pivot_table(index=\"Age_categories\",values='treatment')\n",
    "pivot.plot.bar(color ='gbr')\n",
    "plt.ylabel(\"Proportion of people who sought treatment\")\n",
    "plt.legend().set_visible(False)\n",
    "plt.show()"
   ]
  },
  {
   "cell_type": "markdown",
   "metadata": {},
   "source": [
    "As our intuition would suggest, the older the person the more likely he/she would seek for treatment. <br> <br>\n",
    "Most of the columns are non-numerical. We'll need to create dummy columns to make use of these values in our ML models."
   ]
  },
  {
   "cell_type": "code",
   "execution_count": 19,
   "metadata": {},
   "outputs": [],
   "source": [
    "def create_dummies(df,column_name):\n",
    "    dummies = pd.get_dummies(df[column_name],prefix=column_name)\n",
    "    df = pd.concat([df,dummies],axis=1)\n",
    "    return df"
   ]
  },
  {
   "cell_type": "code",
   "execution_count": 20,
   "metadata": {},
   "outputs": [],
   "source": [
    "survey = create_dummies(survey,\"Age_categories\")\n",
    "survey = create_dummies(survey,\"Gender\")"
   ]
  },
  {
   "cell_type": "code",
   "execution_count": 21,
   "metadata": {},
   "outputs": [
    {
     "data": {
      "text/plain": [
       "Index(['Age', 'Gender', 'Country', 'self_employed', 'family_history',\n",
       "       'treatment', 'work_interfere', 'no_employees', 'remote_work',\n",
       "       'tech_company', 'benefits', 'care_options', 'wellness_program',\n",
       "       'seek_help', 'anonymity', 'leave', 'mental_health_consequence',\n",
       "       'phys_health_consequence', 'coworkers', 'supervisor',\n",
       "       'mental_health_interview', 'phys_health_interview',\n",
       "       'mental_vs_physical', 'obs_consequence', 'Age_categories',\n",
       "       'Age_categories_Young Adult', 'Age_categories_Adult',\n",
       "       'Age_categories_Senior', 'Gender_Female', 'Gender_Male'],\n",
       "      dtype='object')"
      ]
     },
     "execution_count": 21,
     "metadata": {},
     "output_type": "execute_result"
    }
   ],
   "source": [
    "survey.columns"
   ]
  },
  {
   "cell_type": "code",
   "execution_count": 22,
   "metadata": {},
   "outputs": [],
   "source": [
    "# creating dummy columns for other columns\n",
    "cols = ['family_history','work_interfere', 'care_options','benefits', 'wellness_program','anonymity',\\\n",
    "        'leave','mental_health_consequence', 'phys_health_consequence']\n",
    "for column in cols:\n",
    "    survey = create_dummies(survey,column)"
   ]
  },
  {
   "cell_type": "code",
   "execution_count": 23,
   "metadata": {},
   "outputs": [
    {
     "data": {
      "text/plain": [
       "Index(['Age', 'Gender', 'Country', 'self_employed', 'family_history',\n",
       "       'treatment', 'work_interfere', 'no_employees', 'remote_work',\n",
       "       'tech_company', 'benefits', 'care_options', 'wellness_program',\n",
       "       'seek_help', 'anonymity', 'leave', 'mental_health_consequence',\n",
       "       'phys_health_consequence', 'coworkers', 'supervisor',\n",
       "       'mental_health_interview', 'phys_health_interview',\n",
       "       'mental_vs_physical', 'obs_consequence', 'Age_categories',\n",
       "       'Age_categories_Young Adult', 'Age_categories_Adult',\n",
       "       'Age_categories_Senior', 'Gender_Female', 'Gender_Male',\n",
       "       'family_history_0', 'family_history_1', 'work_interfere_Don't know',\n",
       "       'work_interfere_Never', 'work_interfere_Often', 'work_interfere_Rarely',\n",
       "       'work_interfere_Sometimes', 'care_options_0', 'care_options_1',\n",
       "       'care_options_Not sure', 'benefits_0', 'benefits_1',\n",
       "       'benefits_Don't know', 'wellness_program_0', 'wellness_program_1',\n",
       "       'wellness_program_Don't know', 'anonymity_0', 'anonymity_1',\n",
       "       'anonymity_Don't know', 'leave_Don't know', 'leave_Somewhat difficult',\n",
       "       'leave_Somewhat easy', 'leave_Very difficult', 'leave_Very easy',\n",
       "       'mental_health_consequence_0', 'mental_health_consequence_1',\n",
       "       'mental_health_consequence_Maybe', 'phys_health_consequence_0',\n",
       "       'phys_health_consequence_1', 'phys_health_consequence_Maybe'],\n",
       "      dtype='object')"
      ]
     },
     "execution_count": 23,
     "metadata": {},
     "output_type": "execute_result"
    }
   ],
   "source": [
    "survey.columns"
   ]
  },
  {
   "cell_type": "markdown",
   "metadata": {},
   "source": [
    "# 4. Machine Learning Models\n",
    "## 4.1 Logistic Regression"
   ]
  },
  {
   "cell_type": "markdown",
   "metadata": {},
   "source": [
    "Now we'll try our first ML model (logistic regression) with two variables only: \"Age_categories\" and \"Gender\". <br>\n",
    "We'll use the dummy columns just created above. <br>\n",
    "Our metrics will be the accuracy (number of correct predictions / number of total predictions)."
   ]
  },
  {
   "cell_type": "code",
   "execution_count": 24,
   "metadata": {},
   "outputs": [
    {
     "data": {
      "text/plain": [
       "LogisticRegression(C=1.0, class_weight=None, dual=False, fit_intercept=True,\n",
       "          intercept_scaling=1, max_iter=100, multi_class='ovr', n_jobs=1,\n",
       "          penalty='l2', random_state=None, solver='lbfgs', tol=0.0001,\n",
       "          verbose=0, warm_start=False)"
      ]
     },
     "execution_count": 24,
     "metadata": {},
     "output_type": "execute_result"
    }
   ],
   "source": [
    "feature_cols = ['Age_categories_Young Adult', 'Age_categories_Adult', 'Age_categories_Senior',\\\n",
    "           'Gender_Female', 'Gender_Male']\n",
    "X = survey[feature_cols]\n",
    "y = survey.treatment\n",
    "# split X and y into training and testing sets\n",
    "X_train, X_test, y_train, y_test = train_test_split(X, y, test_size=0.2, random_state=0)\n",
    "\n",
    "lr = LogisticRegression(solver ='lbfgs')\n",
    "lr.fit(X_train, y_train)"
   ]
  },
  {
   "cell_type": "code",
   "execution_count": 25,
   "metadata": {},
   "outputs": [
    {
     "name": "stdout",
     "output_type": "stream",
     "text": [
      "Logistic Regression with \"Age_categories\" and \"Gender\" variables\n",
      "Accuracy : 0.623\n"
     ]
    }
   ],
   "source": [
    "predictions = lr.predict(X_test)\n",
    "accuracy = metrics.accuracy_score(y_test, predictions)\n",
    "print('Logistic Regression with \"Age_categories\" and \"Gender\" variables')\n",
    "print('Accuracy : {:.3f}'.format(accuracy))"
   ]
  },
  {
   "cell_type": "markdown",
   "metadata": {},
   "source": [
    "The first attempt gives quite poor accuracy. <br>\n",
    "Let's see if we can improve with cross validation to train and test our model on different splits of our data, and then average the accuracy scores."
   ]
  },
  {
   "cell_type": "code",
   "execution_count": 26,
   "metadata": {},
   "outputs": [
    {
     "name": "stdout",
     "output_type": "stream",
     "text": [
      "[0.46153846 0.61538462 0.61538462 0.76923077 0.56       0.68\n",
      " 0.6        0.6        0.625      0.625     ]\n",
      "Average accuracy with cross validation (10 folds) : 0.615\n"
     ]
    }
   ],
   "source": [
    "scores = cross_val_score(lr, X_test, y_test, cv=10)\n",
    "accuracy = np.mean(scores)\n",
    "print(scores)\n",
    "print('Average accuracy with cross validation (10 folds) : {:.3f}'.format(accuracy))"
   ]
  },
  {
   "cell_type": "markdown",
   "metadata": {},
   "source": [
    "Cross validation didn't improve accuracy at all.<br>\n",
    "Let's try with more features."
   ]
  },
  {
   "cell_type": "markdown",
   "metadata": {},
   "source": [
    "In order to select the best-performing features, we need a way to measure which of our features are relevant to our target.<br>\n",
    "One effective way is by training a logistic regression model using all of our features, and then looking at the coefficients of each feature.\n",
    "<br><br>\n",
    "The scikit-learn LogisticRegression class has an attribute in which coefficients are stored after the model is fit, LogisticRegression.coef_.<br>We first need to train our model, after which we can access this attribute.\n"
   ]
  },
  {
   "cell_type": "code",
   "execution_count": 27,
   "metadata": {},
   "outputs": [
    {
     "data": {
      "image/png": "[encoded data removed]",
      "text/plain": [
       "<Figure size 576x576 with 1 Axes>"
      ]
     },
     "metadata": {},
     "output_type": "display_data"
    }
   ],
   "source": [
    "feature_cols = ['Age_categories_Young Adult', 'Age_categories_Adult',  'Age_categories_Senior',\\\n",
    "                'Gender_Female', 'Gender_Male','family_history_0', 'family_history_1', 'work_interfere_Don\\'t know',\\\n",
    "                'work_interfere_Never', 'work_interfere_Often', 'work_interfere_Rarely',\\\n",
    "                'work_interfere_Sometimes', 'care_options_0', 'care_options_1',\\\n",
    "                'care_options_Not sure', 'benefits_0', 'benefits_1',\\\n",
    "                'benefits_Don\\'t know', 'wellness_program_0', 'wellness_program_1',\\\n",
    "                'wellness_program_Don\\'t know', 'anonymity_0', 'anonymity_1',\\\n",
    "                'anonymity_Don\\'t know', 'leave_Don\\'t know', 'leave_Somewhat difficult',\\\n",
    "                'leave_Somewhat easy', 'leave_Very difficult', 'leave_Very easy',\\\n",
    "                'mental_health_consequence_0', 'mental_health_consequence_1',\\\n",
    "                'mental_health_consequence_Maybe', 'phys_health_consequence_0',\\\n",
    "                'phys_health_consequence_1', 'phys_health_consequence_Maybe']\n",
    "X = survey[feature_cols]\n",
    "y = survey.treatment\n",
    "# split X and y into training and testing sets\n",
    "X_train, X_test, y_train, y_test = train_test_split(X, y, test_size=0.2, random_state=0)\n",
    "\n",
    "lr = LogisticRegression(solver='lbfgs')\n",
    "lr.fit(X_train, y_train)\n",
    "coefficients = lr.coef_\n",
    "\n",
    "feature_importance = pd.Series(coefficients[0],\n",
    "                               index=X_train[feature_cols].columns)\n",
    "plt.figure(figsize=(8,8)) \n",
    "feature_importance.plot.barh()\n",
    "plt.show()"
   ]
  },
  {
   "cell_type": "markdown",
   "metadata": {},
   "source": [
    "The plot we generated just above shows a range of both positive and negative values. Whether the value is positive or negative isn't as important in this case, relative to the magnitude of the value.<br>\n",
    "To make things easier to interpret, we'll alter the plot to show all positive values, and have sorted the bars in order of size."
   ]
  },
  {
   "cell_type": "code",
   "execution_count": 28,
   "metadata": {},
   "outputs": [
    {
     "data": {
      "image/png": "[encoded data removed]",
      "text/plain": [
       "<Figure size 720x720 with 1 Axes>"
      ]
     },
     "metadata": {},
     "output_type": "display_data"
    }
   ],
   "source": [
    "ordered_feature_importance = feature_importance.abs().sort_values()\n",
    "plt.figure(figsize=(10,10))\n",
    "ordered_feature_importance.plot.barh()\n",
    "plt.show()"
   ]
  },
  {
   "cell_type": "code",
   "execution_count": 29,
   "metadata": {},
   "outputs": [
    {
     "name": "stdout",
     "output_type": "stream",
     "text": [
      "[0.76923077 0.73076923 0.92307692 0.84615385 0.8        0.84\n",
      " 0.8        0.72       0.75       0.79166667]\n",
      "0.7970897435897436\n"
     ]
    }
   ],
   "source": [
    "scores = cross_val_score(lr, X_test, y_test, cv=10)\n",
    "accuracy = np.mean(scores)\n",
    "print(scores)\n",
    "print(accuracy)"
   ]
  },
  {
   "cell_type": "markdown",
   "metadata": {},
   "source": [
    "Now let's train a new model with the top n scores (n<8) and check our accuracy using cross validation."
   ]
  },
  {
   "cell_type": "code",
   "execution_count": 30,
   "metadata": {},
   "outputs": [],
   "source": [
    "def selectNScores(n):\n",
    "    feature_cols = ordered_feature_importance.index[-n:]\n",
    "    X = survey[feature_cols]\n",
    "    y = survey.treatment\n",
    "    # split X and y into training and testing sets\n",
    "    X_train, X_test, y_train, y_test = train_test_split(X, y, test_size=0.2, random_state=0)\n",
    "\n",
    "    lr = LogisticRegression(solver='lbfgs')\n",
    "    lr.fit(X_train, y_train)\n",
    "    \n",
    "    scores = cross_val_score(lr, X_test, y_test, cv=10)\n",
    "    accuracy = np.mean(scores)\n",
    "    print('Average accuracy with the top {:d} feature(s) : {:.3f}'.format(n,accuracy))"
   ]
  },
  {
   "cell_type": "code",
   "execution_count": 31,
   "metadata": {},
   "outputs": [
    {
     "name": "stdout",
     "output_type": "stream",
     "text": [
      "Average accuracy with the top 1 feature(s) : 0.679\n",
      "Average accuracy with the top 2 feature(s) : 0.679\n",
      "Average accuracy with the top 3 feature(s) : 0.758\n",
      "Average accuracy with the top 4 feature(s) : 0.806\n",
      "Average accuracy with the top 5 feature(s) : 0.806\n",
      "Average accuracy with the top 6 feature(s) : 0.806\n",
      "Average accuracy with the top 7 feature(s) : 0.798\n",
      "Average accuracy with the top 8 feature(s) : 0.798\n"
     ]
    }
   ],
   "source": [
    "for n in range(1,9):\n",
    "    selectNScores(n)"
   ]
  },
  {
   "cell_type": "markdown",
   "metadata": {},
   "source": [
    "It seems that there is an optimal number of features that would be 4 or 5. <br>\n",
    "But actually, when we look at these top features, we find that they are all related to the \"work_interfere\" column of the original dataset. <br>\n",
    "The 5th top feature is just the last dummy column among the 5 possible values of the original \"work_interfere\" column.\n",
    "<br> <br>\n",
    "This is an example of the dummy variable trap. So let's remove one of each of our dummy variables to reduce the collinearity in each."
   ]
  },
  {
   "cell_type": "code",
   "execution_count": 32,
   "metadata": {},
   "outputs": [
    {
     "data": {
      "image/png": "[encoded data removed]",
      "text/plain": [
       "<Figure size 720x720 with 1 Axes>"
      ]
     },
     "metadata": {},
     "output_type": "display_data"
    }
   ],
   "source": [
    "feature_cols = ['Age_categories_Young Adult', 'Age_categories_Adult',\\\n",
    "                'Gender_Female','family_history_0', 'work_interfere_Don\\'t know',\\\n",
    "                'work_interfere_Never', 'work_interfere_Often', 'work_interfere_Rarely',\\\n",
    "                'care_options_0','care_options_Not sure', \\\n",
    "                'benefits_0', 'benefits_Don\\'t know',\\\n",
    "                'wellness_program_0', 'wellness_program_Don\\'t know',\\\n",
    "                'anonymity_0', 'anonymity_Don\\'t know',\\\n",
    "                'leave_Don\\'t know', 'leave_Somewhat difficult','leave_Somewhat easy', 'leave_Very difficult',\\\n",
    "                'mental_health_consequence_0', 'mental_health_consequence_Maybe',\\\n",
    "                'phys_health_consequence_0', 'phys_health_consequence_Maybe']\n",
    "X = survey[feature_cols]\n",
    "y = survey.treatment\n",
    "# split X and y into training and testing sets\n",
    "X_train, X_test, y_train, y_test = train_test_split(X, y, test_size=0.2, random_state=0)\n",
    "\n",
    "lr = LogisticRegression(solver='lbfgs')\n",
    "lr.fit(X_train, y_train)\n",
    "coefficients = lr.coef_\n",
    "\n",
    "feature_importance = pd.Series(coefficients[0],\n",
    "                               index=X_train[feature_cols].columns)\n",
    "ordered_feature_importance = feature_importance.abs().sort_values()\n",
    "plt.figure(figsize=(10,10))\n",
    "ordered_feature_importance.plot.barh()\n",
    "plt.show()"
   ]
  },
  {
   "cell_type": "code",
   "execution_count": 33,
   "metadata": {},
   "outputs": [
    {
     "name": "stdout",
     "output_type": "stream",
     "text": [
      "[0.76923077 0.76923077 0.96153846 0.84615385 0.84       0.84\n",
      " 0.8        0.72       0.75       0.75      ]\n",
      "0.8046153846153846\n"
     ]
    }
   ],
   "source": [
    "scores = cross_val_score(lr, X_test, y_test, cv=10)\n",
    "accuracy = np.mean(scores)\n",
    "print(scores)\n",
    "print(accuracy)"
   ]
  },
  {
   "cell_type": "code",
   "execution_count": 34,
   "metadata": {},
   "outputs": [
    {
     "name": "stdout",
     "output_type": "stream",
     "text": [
      "Average accuracy with the top 1 feature(s) : 0.679\n",
      "Average accuracy with the top 2 feature(s) : 0.806\n",
      "Average accuracy with the top 3 feature(s) : 0.806\n",
      "Average accuracy with the top 4 feature(s) : 0.806\n",
      "Average accuracy with the top 5 feature(s) : 0.806\n",
      "Average accuracy with the top 6 feature(s) : 0.806\n",
      "Average accuracy with the top 7 feature(s) : 0.809\n",
      "Average accuracy with the top 8 feature(s) : 0.814\n",
      "Average accuracy with the top 9 feature(s) : 0.797\n",
      "Average accuracy with the top 10 feature(s) : 0.793\n",
      "Average accuracy with the top 11 feature(s) : 0.801\n",
      "Average accuracy with the top 12 feature(s) : 0.797\n",
      "Average accuracy with the top 13 feature(s) : 0.778\n",
      "Average accuracy with the top 14 feature(s) : 0.778\n",
      "Average accuracy with the top 15 feature(s) : 0.778\n",
      "Average accuracy with the top 16 feature(s) : 0.782\n",
      "Average accuracy with the top 17 feature(s) : 0.805\n",
      "Average accuracy with the top 18 feature(s) : 0.801\n",
      "Average accuracy with the top 19 feature(s) : 0.793\n"
     ]
    }
   ],
   "source": [
    "for n in range(1,20):\n",
    "    selectNScores(n)"
   ]
  },
  {
   "cell_type": "code",
   "execution_count": 35,
   "metadata": {},
   "outputs": [
    {
     "data": {
      "text/plain": [
       "Gender_Female                 0.586833\n",
       "care_options_Not sure         0.646085\n",
       "work_interfere_Often          0.684490\n",
       "Age_categories_Adult          0.699440\n",
       "Age_categories_Young Adult    0.921201\n",
       "family_history_0              1.046082\n",
       "work_interfere_Never          2.574896\n",
       "work_interfere_Don't know     4.124284\n",
       "dtype: float64"
      ]
     },
     "execution_count": 35,
     "metadata": {},
     "output_type": "execute_result"
    }
   ],
   "source": [
    "ordered_feature_importance[-8:]"
   ]
  },
  {
   "cell_type": "markdown",
   "metadata": {},
   "source": [
    "By avoiding the dummy variable trap, we find a different optimum set of features which seems to make more sense. <br>\n",
    "Indeed, previously the optimum set was only consisting of values taken by the \"work_interfere\" column. <br>\n",
    "Now we have a larger variety of original variables that enable to maximise the performance of our ML model. <br> <br>\n",
    "\n",
    "For performance comparison, let's try now to select the most relevant features automatically. An alternate method is to use one of scikit-learn's inbuilt feature selection classes. We will be using the feature_selection.RFECV class which performs recursive feature elimination with cross-validation. <br>\n",
    "\n",
    "The RFECV class starts by training a model using all features and scores it using cross validation. It then uses the logit coefficients to eliminate the least important feature, and trains and scores a new model. At the end, the class looks at all the scores, and selects the set of features which scored highest."
   ]
  },
  {
   "cell_type": "code",
   "execution_count": 36,
   "metadata": {},
   "outputs": [],
   "source": [
    "feature_cols = ['Age_categories_Young Adult', 'Age_categories_Adult',\\\n",
    "                'Gender_Female','family_history_0', 'work_interfere_Don\\'t know',\\\n",
    "                'work_interfere_Never', 'work_interfere_Often', 'work_interfere_Rarely',\\\n",
    "                'care_options_0','care_options_Not sure', \\\n",
    "                'benefits_0', 'benefits_Don\\'t know',\\\n",
    "                'wellness_program_0', 'wellness_program_Don\\'t know',\\\n",
    "                'anonymity_0', 'anonymity_Don\\'t know',\\\n",
    "                'leave_Don\\'t know', 'leave_Somewhat difficult','leave_Somewhat easy', 'leave_Very difficult',\\\n",
    "                'mental_health_consequence_0', 'mental_health_consequence_Maybe',\\\n",
    "                'phys_health_consequence_0', 'phys_health_consequence_Maybe']\n",
    "X = survey[feature_cols]\n",
    "y = survey.treatment\n",
    "lr = LogisticRegression(solver='lbfgs')\n",
    "X_train, X_test, y_train, y_test = train_test_split(X, y, test_size=0.2, random_state=0)\n",
    "\n",
    "lr = LogisticRegression(solver='lbfgs')\n",
    "selector = RFECV(lr,cv=10)\n",
    "selector.fit(X,y)\n",
    "\n",
    "#we can use the RFECV.support_ attribute to access a boolean mask of True and False values\n",
    "#which we can use to generate a list of optimized columns\n",
    "optimized_columns = X.columns[selector.support_]"
   ]
  },
  {
   "cell_type": "code",
   "execution_count": 37,
   "metadata": {},
   "outputs": [
    {
     "data": {
      "text/plain": [
       "Index(['Age_categories_Young Adult', 'Age_categories_Adult', 'Gender_Female',\n",
       "       'family_history_0', 'work_interfere_Don't know', 'work_interfere_Never',\n",
       "       'work_interfere_Often', 'work_interfere_Rarely', 'care_options_0',\n",
       "       'care_options_Not sure', 'benefits_0', 'benefits_Don't know',\n",
       "       'wellness_program_Don't know', 'anonymity_0', 'anonymity_Don't know',\n",
       "       'leave_Somewhat difficult', 'leave_Somewhat easy'],\n",
       "      dtype='object')"
      ]
     },
     "execution_count": 37,
     "metadata": {},
     "output_type": "execute_result"
    }
   ],
   "source": [
    "optimized_columns"
   ]
  },
  {
   "cell_type": "code",
   "execution_count": 38,
   "metadata": {},
   "outputs": [
    {
     "data": {
      "text/plain": [
       "LogisticRegression(C=1.0, class_weight=None, dual=False, fit_intercept=True,\n",
       "          intercept_scaling=1, max_iter=100, multi_class='ovr', n_jobs=1,\n",
       "          penalty='l2', random_state=None, solver='lbfgs', tol=0.0001,\n",
       "          verbose=0, warm_start=False)"
      ]
     },
     "execution_count": 38,
     "metadata": {},
     "output_type": "execute_result"
    }
   ],
   "source": [
    "X = survey[optimized_columns]\n",
    "y = survey.treatment\n",
    "# split X and y into training and testing sets\n",
    "X_train, X_test, y_train, y_test = train_test_split(X, y, test_size=0.2, random_state=0)\n",
    "\n",
    "lr = LogisticRegression(solver='lbfgs')\n",
    "lr.fit(X_train, y_train)"
   ]
  },
  {
   "cell_type": "code",
   "execution_count": 39,
   "metadata": {},
   "outputs": [
    {
     "name": "stdout",
     "output_type": "stream",
     "text": [
      "[0.81889764 0.85826772 0.84126984 0.83333333 0.84126984 0.81746032\n",
      " 0.84920635 0.88       0.816      0.768     ]\n",
      "Average accuracy with recursive feature elimination : 0.832\n"
     ]
    }
   ],
   "source": [
    "scores = cross_val_score(lr, X, y, cv=10)\n",
    "accuracy = np.mean(scores)\n",
    "print(scores)\n",
    "print('Average accuracy with recursive feature elimination : {:.3f}'.format(accuracy))"
   ]
  },
  {
   "cell_type": "markdown",
   "metadata": {},
   "source": [
    "Beautiful ! We have improved the accuracy with recursive feature elimination, which shows that this tool is very powerful. <br><br>\n",
    "Now, let's play with another ML algorithm: k-nearest neighbors algorithm."
   ]
  },
  {
   "cell_type": "markdown",
   "metadata": {},
   "source": [
    "## 4.2 k-nearest neighbors algorithm"
   ]
  },
  {
   "cell_type": "code",
   "execution_count": 40,
   "metadata": {},
   "outputs": [],
   "source": [
    "# applying knn using the maximum number of features first\n",
    "feature_cols = ['Age_categories_Young Adult', 'Age_categories_Adult',  'Age_categories_Senior',\\\n",
    "                'Gender_Female', 'Gender_Male','family_history_0', 'family_history_1', 'work_interfere_Don\\'t know',\\\n",
    "                'work_interfere_Never', 'work_interfere_Often', 'work_interfere_Rarely',\\\n",
    "                'work_interfere_Sometimes', 'care_options_0', 'care_options_1',\\\n",
    "                'care_options_Not sure', 'benefits_0', 'benefits_1',\\\n",
    "                'benefits_Don\\'t know', 'wellness_program_0', 'wellness_program_1',\\\n",
    "                'wellness_program_Don\\'t know', 'anonymity_0', 'anonymity_1',\\\n",
    "                'anonymity_Don\\'t know', 'leave_Don\\'t know', 'leave_Somewhat difficult',\\\n",
    "                'leave_Somewhat easy', 'leave_Very difficult', 'leave_Very easy',\\\n",
    "                'mental_health_consequence_0', 'mental_health_consequence_1',\\\n",
    "                'mental_health_consequence_Maybe', 'phys_health_consequence_0',\\\n",
    "                'phys_health_consequence_1', 'phys_health_consequence_Maybe']\n",
    "X = survey[feature_cols]\n",
    "y = survey.treatment\n",
    "# split X and y into training and testing sets\n",
    "X_train, X_test, y_train, y_test = train_test_split(X, y, test_size=0.2, random_state=0)"
   ]
  },
  {
   "cell_type": "code",
   "execution_count": 41,
   "metadata": {},
   "outputs": [
    {
     "name": "stdout",
     "output_type": "stream",
     "text": [
      "[0.75590551 0.75590551 0.82539683 0.73015873 0.69047619 0.71428571\n",
      " 0.74603175 0.752      0.656      0.736     ]\n",
      "Average accuracy with knn (1 neighbor) : 0.736\n"
     ]
    }
   ],
   "source": [
    "knn = KNeighborsClassifier(n_neighbors=1)\n",
    "scores = cross_val_score(knn, X, y, cv=10)\n",
    "accuracy_knn = scores.mean()\n",
    "print(scores)\n",
    "print('Average accuracy with knn (1 neighbor) : {:.3f}'.format(accuracy_knn))"
   ]
  },
  {
   "cell_type": "code",
   "execution_count": 42,
   "metadata": {},
   "outputs": [
    {
     "data": {
      "image/png": "[encoded data removed]",
      "text/plain": [
       "<Figure size 648x432 with 1 Axes>"
      ]
     },
     "metadata": {},
     "output_type": "display_data"
    }
   ],
   "source": [
    "def plot_dict(dictionary):\n",
    "    pd.Series(dictionary).plot.bar(figsize=(9,6),\n",
    "                                   ylim=(0.6,0.85),rot=0)\n",
    "    plt.xlabel('Number of neighbors')\n",
    "    plt.ylabel('knn score')\n",
    "    plt.show()\n",
    "\n",
    "knn_scores = dict()\n",
    "for k in range(1,50,2):\n",
    "    knn = KNeighborsClassifier(n_neighbors=k)\n",
    "\n",
    "    scores = cross_val_score(knn, X, y, cv=10)\n",
    "    accuracy_knn = scores.mean()\n",
    "    knn_scores[k] = accuracy_knn\n",
    "    \n",
    "plot_dict(knn_scores)"
   ]
  },
  {
   "cell_type": "markdown",
   "metadata": {},
   "source": [
    "Even with the optimum number of neighbors (23), the knn algorithm shows lower performance in comparison with logistic regression (accuracy never reaches 0.8). <br>\n",
    "Let's go further with hyperparameter optimization to see if the knn can perform better."
   ]
  },
  {
   "cell_type": "code",
   "execution_count": 43,
   "metadata": {},
   "outputs": [
    {
     "name": "stdout",
     "output_type": "stream",
     "text": [
      "{'n_neighbors': 23}\n"
     ]
    }
   ],
   "source": [
    "# automating the process with GridSearch\n",
    "hyperparameters = {\n",
    "    \"n_neighbors\": range(1,50,2)\n",
    "}\n",
    "grid = GridSearchCV(knn, param_grid=hyperparameters, cv=10)\n",
    "grid.fit(X, y)\n",
    "\n",
    "print(grid.best_params_)"
   ]
  },
  {
   "cell_type": "code",
   "execution_count": 44,
   "metadata": {},
   "outputs": [
    {
     "name": "stdout",
     "output_type": "stream",
     "text": [
      "{'algorithm': 'brute', 'n_neighbors': 45, 'p': 1, 'weights': 'uniform'}\n",
      "0.7831612390786339\n"
     ]
    }
   ],
   "source": [
    "# trying knn with other hyperparameters\n",
    "hyperparameters = {\n",
    "    \"n_neighbors\": range(1,50,2),\n",
    "    \"weights\": [\"distance\", \"uniform\"],\n",
    "    \"algorithm\": ['brute'],\n",
    "    \"p\": [1,2]\n",
    "}\n",
    "knn = KNeighborsClassifier()\n",
    "grid = GridSearchCV(knn,param_grid=hyperparameters,cv=10)\n",
    "\n",
    "grid.fit(X, y)\n",
    "\n",
    "print(grid.best_params_)\n",
    "print(grid.best_score_)"
   ]
  },
  {
   "cell_type": "markdown",
   "metadata": {},
   "source": [
    "Even grid search does not enable to obtain an accuracy higher than 0.8. <br>\n",
    "Definitely knn is not the best model to use for this challenge.  <br> <br>\n",
    "Let's try now random forest algorithm."
   ]
  },
  {
   "cell_type": "markdown",
   "metadata": {},
   "source": [
    "## 4.3 Random Forest Algorithm"
   ]
  },
  {
   "cell_type": "code",
   "execution_count": 45,
   "metadata": {},
   "outputs": [
    {
     "name": "stdout",
     "output_type": "stream",
     "text": [
      "Average accuracy with random forests : 0.797\n"
     ]
    }
   ],
   "source": [
    "clf = RandomForestClassifier(random_state=1)\n",
    "scores = cross_val_score(clf,X, y, cv=10)\n",
    "accuracy_rf = scores.mean()\n",
    "print('Average accuracy with random forests : {:.3f}'.format(accuracy_rf))"
   ]
  },
  {
   "cell_type": "markdown",
   "metadata": {},
   "source": [
    "A cross-validation with random forest regression (without hyperparameter optimisation at the moment) shows better performance than the most optimised knn model. <br>\n",
    "Let's see how grid search can improve the accuracy."
   ]
  },
  {
   "cell_type": "code",
   "execution_count": 46,
   "metadata": {
    "scrolled": true
   },
   "outputs": [
    {
     "name": "stdout",
     "output_type": "stream",
     "text": [
      "{'criterion': 'entropy', 'max_depth': 5, 'max_features': 'sqrt', 'min_samples_leaf': 5, 'min_samples_split': 5, 'n_estimators': 9}\n",
      "Best score with random forests : 0.828\n"
     ]
    }
   ],
   "source": [
    "hyperparameters = {\"criterion\": [\"entropy\", \"gini\"],\n",
    "                   \"max_depth\": [5, 10],\n",
    "                   \"max_features\": [\"log2\", \"sqrt\"],\n",
    "                   \"min_samples_leaf\": [1, 5],\n",
    "                   \"min_samples_split\": [3, 5],\n",
    "                   \"n_estimators\": [6, 9]\n",
    "                    }\n",
    "\n",
    "clf = RandomForestClassifier()\n",
    "grid = GridSearchCV(clf,param_grid=hyperparameters,cv=10)\n",
    "\n",
    "grid.fit(X, y)\n",
    "\n",
    "best_params = grid.best_params_\n",
    "best_score = grid.best_score_\n",
    "print(best_params)\n",
    "print('Best score with random forests : {:.3f}'.format(best_score))"
   ]
  },
  {
   "cell_type": "markdown",
   "metadata": {
    "collapsed": true
   },
   "source": [
    "# Conclusion\n",
    "\n"
   ]
  },
  {
   "cell_type": "markdown",
   "metadata": {},
   "source": [
    "Working with this dataset has been a very interesting challenge and enabled me to apply my knowledge in data analysis and machine learning. <br> <br>\n",
    "\n",
    "Cleaning the data, selecting the features, creating new variables are essential steps before selecting the machine learning models and tuning them. <br> <br>\n",
    "\n",
    "Main conclusions of the exercise are as follows: <br>\n",
    " - More women are seeking treatment than men <br>\n",
    " - The older the person the more likely he/she would seek for treatment <br>\n",
    " - Seeking for treatment is highly correlated to the fact that the person thinks it the mental health would interfere with work <br>\n",
    " - Logistic Regression and Random Forest are very good predictors and can give accuracy above 80% if well tuned\n"
   ]
  },
  {
   "cell_type": "code",
   "execution_count": null,
   "metadata": {},
   "outputs": [],
   "source": []
  }
 ],
 "metadata": {
  "anaconda-cloud": {},
  "kernelspec": {
   "display_name": "Python 3",
   "language": "python",
   "name": "python3"
  },
  "language_info": {
   "codemirror_mode": {
    "name": "ipython",
    "version": 3
   },
   "file_extension": ".py",
   "mimetype": "text/x-python",
   "name": "python",
   "nbconvert_exporter": "python",
   "pygments_lexer": "ipython3",
   "version": "3.6.5"
  }
 },
 "nbformat": 4,
 "nbformat_minor": 1
}
